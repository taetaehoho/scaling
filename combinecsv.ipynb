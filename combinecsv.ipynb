{
 "cells": [
  {
   "cell_type": "code",
   "execution_count": 1,
   "metadata": {},
   "outputs": [],
   "source": [
    "import pandas as pd\n",
    "import glob\n",
    "\n",
    "def combine_csvs(output_filename):\n",
    "    # Use glob to find all CSV files matching the pattern\n",
    "    all_csv_files = glob.glob('scraped_data_*.csv')\n",
    "    \n",
    "    # Read each CSV file and store them in a list\n",
    "    all_dataframes = []\n",
    "    for filename in all_csv_files:\n",
    "        df = pd.read_csv(filename)\n",
    "        all_dataframes.append(df)\n",
    "\n",
    "    # Concatenate all dataframes into one\n",
    "    combined_df = pd.concat(all_dataframes, ignore_index=True)\n",
    "\n",
    "    # Save the combined dataframe to a new CSV file\n",
    "    combined_df.to_csv(output_filename, index=False)\n",
    "\n",
    "if __name__ == \"__main__\":\n",
    "    combine_csvs('combined_scraped_data.csv')\n"
   ]
  },
  {
   "cell_type": "code",
   "execution_count": null,
   "metadata": {},
   "outputs": [],
   "source": []
  }
 ],
 "metadata": {
  "kernelspec": {
   "display_name": "Python 3",
   "language": "python",
   "name": "python3"
  },
  "language_info": {
   "codemirror_mode": {
    "name": "ipython",
    "version": 3
   },
   "file_extension": ".py",
   "mimetype": "text/x-python",
   "name": "python",
   "nbconvert_exporter": "python",
   "pygments_lexer": "ipython3",
   "version": "3.11.5"
  }
 },
 "nbformat": 4,
 "nbformat_minor": 2
}

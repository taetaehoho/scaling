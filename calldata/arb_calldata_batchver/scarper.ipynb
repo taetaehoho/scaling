{
 "cells": [
  {
   "cell_type": "code",
   "execution_count": 4,
   "metadata": {},
   "outputs": [
    {
     "ename": "TypeError",
     "evalue": "WebDriver.__init__() got an unexpected keyword argument 'executable_path'",
     "output_type": "error",
     "traceback": [
      "\u001b[0;31m---------------------------------------------------------------------------\u001b[0m",
      "\u001b[0;31mTypeError\u001b[0m                                 Traceback (most recent call last)",
      "\u001b[1;32m/Users/taetaehoho/projects/scalability/op_arb_zk/arb_calldata/scarper.ipynb Cell 1\u001b[0m line \u001b[0;36m2\n\u001b[1;32m     <a href='vscode-notebook-cell:/Users/taetaehoho/projects/scalability/op_arb_zk/arb_calldata/scarper.ipynb#W0sZmlsZQ%3D%3D?line=22'>23</a>\u001b[0m         \u001b[39mprint\u001b[39m(\u001b[39mf\u001b[39m\u001b[39m\"\u001b[39m\u001b[39mBatch \u001b[39m\u001b[39m{\u001b[39;00mbatch_number\u001b[39m}\u001b[39;00m\u001b[39m, Transaction \u001b[39m\u001b[39m{\u001b[39;00midx\u001b[39m}\u001b[39;00m\u001b[39m: \u001b[39m\u001b[39m{\u001b[39;00mtxn_text\u001b[39m}\u001b[39;00m\u001b[39m\"\u001b[39m)\n\u001b[1;32m     <a href='vscode-notebook-cell:/Users/taetaehoho/projects/scalability/op_arb_zk/arb_calldata/scarper.ipynb#W0sZmlsZQ%3D%3D?line=24'>25</a>\u001b[0m \u001b[39m# Initialize the Selenium WebDriver (make sure to specify the path to your WebDriver)\u001b[39;00m\n\u001b[0;32m---> <a href='vscode-notebook-cell:/Users/taetaehoho/projects/scalability/op_arb_zk/arb_calldata/scarper.ipynb#W0sZmlsZQ%3D%3D?line=25'>26</a>\u001b[0m driver \u001b[39m=\u001b[39m webdriver\u001b[39m.\u001b[39;49mChrome(executable_path\u001b[39m=\u001b[39;49m\u001b[39m'\u001b[39;49m\u001b[39m/path/to/chromedriver\u001b[39;49m\u001b[39m'\u001b[39;49m)\n\u001b[1;32m     <a href='vscode-notebook-cell:/Users/taetaehoho/projects/scalability/op_arb_zk/arb_calldata/scarper.ipynb#W0sZmlsZQ%3D%3D?line=27'>28</a>\u001b[0m \u001b[39m# URL of the batches page\u001b[39;00m\n\u001b[1;32m     <a href='vscode-notebook-cell:/Users/taetaehoho/projects/scalability/op_arb_zk/arb_calldata/scarper.ipynb#W0sZmlsZQ%3D%3D?line=28'>29</a>\u001b[0m batches_url \u001b[39m=\u001b[39m \u001b[39m\"\u001b[39m\u001b[39mhttps://arbiscan.io/batches\u001b[39m\u001b[39m\"\u001b[39m\n",
      "\u001b[0;31mTypeError\u001b[0m: WebDriver.__init__() got an unexpected keyword argument 'executable_path'"
     ]
    }
   ],
   "source": [
    "import time\n",
    "import requests\n",
    "from bs4 import BeautifulSoup\n",
    "from selenium import webdriver\n",
    "\n",
    "# Function to scrape and log the transactions for a batch number\n",
    "def scrape_and_log_txn(batch_number):\n",
    "    url = f\"https://arbiscan.io/batches\"\n",
    "    driver.get(url)\n",
    "\n",
    "    # Wait for the page to load (adjust the sleep duration as needed)\n",
    "    time.sleep(5)\n",
    "\n",
    "    # Parse the page content\n",
    "    soup = BeautifulSoup(driver.page_source, 'html.parser')\n",
    "\n",
    "    # Extract the transaction data\n",
    "    txn_elements = soup.find_all('div', class_='tx-info')\n",
    "    \n",
    "    # Log the transactions\n",
    "    for idx, txn_element in enumerate(txn_elements, start=1):\n",
    "        txn_text = txn_element.get_text(strip=True)\n",
    "        print(f\"Batch {batch_number}, Transaction {idx}: {txn_text}\")\n",
    "\n",
    "# Initialize the Selenium WebDriver (make sure to specify the path to your WebDriver)\n",
    "driver = webdriver.Chrome(executable_path='/path/to/chromedriver')\n",
    "\n",
    "# URL of the batches page\n",
    "batches_url = \"https://arbiscan.io/batches\"\n",
    "\n",
    "# Send a GET request to the batches page\n",
    "response = requests.get(batches_url)\n",
    "if response.status_code == 200:\n",
    "    soup = BeautifulSoup(response.content, 'html.parser')\n",
    "\n",
    "    # Find the batch numbers on the page\n",
    "    batch_numbers = [a.text for a in soup.find_all('a', href=True, class_='d-flex justify-content-between align-items-center text-body')]\n",
    "    \n",
    "    # Iterate through batch numbers and scrape transaction data\n",
    "    for batch_number in batch_numbers:\n",
    "        scrape_and_log_txn(batch_number)\n",
    "\n",
    "# Close the WebDriver\n",
    "driver.quit()\n"
   ]
  },
  {
   "cell_type": "code",
   "execution_count": null,
   "metadata": {},
   "outputs": [],
   "source": []
  }
 ],
 "metadata": {
  "kernelspec": {
   "display_name": "Python 3",
   "language": "python",
   "name": "python3"
  },
  "language_info": {
   "codemirror_mode": {
    "name": "ipython",
    "version": 3
   },
   "file_extension": ".py",
   "mimetype": "text/x-python",
   "name": "python",
   "nbconvert_exporter": "python",
   "pygments_lexer": "ipython3",
   "version": "3.11.5"
  }
 },
 "nbformat": 4,
 "nbformat_minor": 2
}

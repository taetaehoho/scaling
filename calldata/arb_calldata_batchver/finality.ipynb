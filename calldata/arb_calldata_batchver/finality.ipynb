{
 "cells": [
  {
   "cell_type": "code",
   "execution_count": 1,
   "metadata": {},
   "outputs": [],
   "source": [
    "import pandas as pd"
   ]
  },
  {
   "cell_type": "code",
   "execution_count": 4,
   "metadata": {},
   "outputs": [
    {
     "name": "stdout",
     "output_type": "stream",
     "text": [
      "Average soft finality: 76.83683225940553\n",
      " Quartiles:\n",
      "0.25    36.0\n",
      "0.50    60.0\n",
      "0.75    96.0\n",
      "Name: time_difference, dtype: float64\n"
     ]
    }
   ],
   "source": [
    "df = pd.read_csv(\"arb_batch_num.csv\")\n",
    "\n",
    "df['block_time'] = pd.to_datetime(df['block_time'], format='%Y-%m-%d %H:%M:%S.%f %Z').dt.strftime('%Y-%m-%d %H:%M:%S')\n",
    "df['block_time'] = pd.to_datetime(df['block_time'])\n",
    "df.sort_values(by = \"block_time\", ascending=False, inplace=True)\n",
    "df['time_difference'] = abs(df['block_time'].diff().dt.total_seconds())\n",
    "\n",
    "mean_value = df['time_difference'].mean()\n",
    "quartiles = df['time_difference'].quantile([0.25, 0.5, 0.75])\n",
    "\n",
    "print(f'Average soft finality: {mean_value}\\n', f'Quartiles:\\n{quartiles}')"
   ]
  },
  {
   "cell_type": "code",
   "execution_count": 10,
   "metadata": {},
   "outputs": [
    {
     "data": {
      "text/plain": [
       "'0x309efe20efb57b7f07ee9b4211d79ae4ac4cecd5196b72eaa3f7a846b968bc84'"
      ]
     },
     "execution_count": 10,
     "metadata": {},
     "output_type": "execute_result"
    }
   ],
   "source": [
    "df['hash'][3]"
   ]
  },
  {
   "cell_type": "code",
   "execution_count": null,
   "metadata": {},
   "outputs": [],
   "source": []
  }
 ],
 "metadata": {
  "kernelspec": {
   "display_name": "Python 3",
   "language": "python",
   "name": "python3"
  },
  "language_info": {
   "codemirror_mode": {
    "name": "ipython",
    "version": 3
   },
   "file_extension": ".py",
   "mimetype": "text/x-python",
   "name": "python",
   "nbconvert_exporter": "python",
   "pygments_lexer": "ipython3",
   "version": "3.11.5"
  }
 },
 "nbformat": 4,
 "nbformat_minor": 2
}
